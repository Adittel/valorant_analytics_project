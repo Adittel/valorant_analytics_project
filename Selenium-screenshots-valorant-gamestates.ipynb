{
 "cells": [
  {
   "cell_type": "code",
   "execution_count": null,
   "metadata": {},
   "outputs": [],
   "source": [
    "from selenium import webdriver\n",
    "from selenium import webdriver\n",
    "import sys\n",
    "from selenium.webdriver.common.action_chains import ActionChains\n",
    "from selenium.webdriver.chrome.options import Options\n",
    "from selenium.webdriver.common.keys import Keys\n",
    "from time import sleep\n",
    "import time\n",
    "import shutil\n",
    "import os\n"
   ]
  },
  {
   "cell_type": "code",
   "execution_count": null,
   "metadata": {},
   "outputs": [],
   "source": [
    "def roundconvert(ss,mh):\n",
    "    dirs = 'C:/Users/singi/OneDrive/Desktop/valo-analytics/'+str(ss)+\"-\"+str(mh)\n",
    "    if os.path.exists(dirs):\n",
    "        shutil.rmtree(dirs)\n",
    "    os.makedirs(dirs)\n",
    "\n",
    "\n",
    "    \n",
    "    options = webdriver.ChromeOptions()\n",
    "    options.add_argument(\"--start-fullscreen\");\n",
    "    driver = webdriver.Chrome(executable_path=\"C:/Program Files (x86)/Google/Chrome/Application/chromedriver.exe\")\n",
    "    driver.get('chrome://settings/')\n",
    "    driver.execute_script('chrome.settingsPrivate.setDefaultZoom(.7);')\n",
    "\n",
    "    fpath='https://runitback.gg/series/'+str(ss)+'?match='+str(mh)+'&round='\n",
    "\n",
    "    fend='&tab=replay'\n",
    "    rounds=1\n",
    "\n",
    "    while(rounds<30):\n",
    "        driver.get(fpath+str(rounds)+fend)\n",
    "\n",
    "        if(rounds!=1 and driver.current_url==str((fpath+str(1)+fend))):\n",
    "            break\n",
    "        ac = ActionChains(driver)\n",
    "        stringstart=\"//*[@id='root']/div/div[2]/div/div[2]/div[5]/div[4]/div/div[1]/span/span[\"\n",
    "        stringend=\"]\"\n",
    "        slider = None\n",
    "        i=0\n",
    "        print(rounds)\n",
    "        while slider is None:\n",
    "            #print(stringstart+str(i)+stringend)\n",
    "\n",
    "            try:\n",
    "                slider = driver.find_element_by_xpath(stringstart+str(i)+stringend)\n",
    "                slider.send_keys(Keys.LEFT)\n",
    "\n",
    "            except:\n",
    "                i+=1\n",
    "                slider=None\n",
    "                pass\n",
    "        # other code that uses result but is not involved in getting it\n",
    "\n",
    "        driver.maximize_window()\n",
    "        driver.execute_script(\"window.scrollTo(0, 475)\") \n",
    "\n",
    "        content = str(driver.page_source)\n",
    "        #span 19\n",
    "        #print(content.count(\"class=\\\"MuiSlider-mark\\\"\"))\n",
    "        os.makedirs(dirs+\"/\"+str(rounds))\n",
    "        for i in range(content.count(\"class=\\\"MuiSlider-mark\\\"\")+1):\n",
    "            if i==0:\n",
    "                slider.send_keys(Keys.LEFT)\n",
    "                slider.send_keys(Keys.RIGHT)\n",
    "                slider.send_keys(Keys.RIGHT)\n",
    "\n",
    "            driver.get_screenshot_as_file(dirs+\"/\"+str(rounds)+\"/\"+str(i)+\".png\")\n",
    "            slider.send_keys(Keys.LEFT)      \n",
    "\n",
    "        rounds+=1\n",
    "    driver.close()\n"
   ]
  },
  {
   "cell_type": "code",
   "execution_count": null,
   "metadata": {},
   "outputs": [],
   "source": [
    "#enter your series and match numbers\n",
    "ss=[12751,12751,12751,12746,12746]\n",
    "mh=[25661,25662,25663,25648,25649]\n",
    "for i in range(len(ss)):\n",
    "    roundconvert(ss[i],mh[i])"
   ]
  },
  {
   "cell_type": "code",
   "execution_count": null,
   "metadata": {},
   "outputs": [],
   "source": []
  }
 ],
 "metadata": {
  "kernelspec": {
   "display_name": "Python 3",
   "language": "python",
   "name": "python3"
  },
  "language_info": {
   "codemirror_mode": {
    "name": "ipython",
    "version": 3
   },
   "file_extension": ".py",
   "mimetype": "text/x-python",
   "name": "python",
   "nbconvert_exporter": "python",
   "pygments_lexer": "ipython3",
   "version": "3.6.6"
  }
 },
 "nbformat": 4,
 "nbformat_minor": 2
}
